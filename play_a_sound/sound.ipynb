{
 "metadata": {
  "language_info": {
   "codemirror_mode": {
    "name": "ipython",
    "version": 3
   },
   "file_extension": ".py",
   "mimetype": "text/x-python",
   "name": "python",
   "nbconvert_exporter": "python",
   "pygments_lexer": "ipython3",
   "version": "3.8.3-final"
  },
  "orig_nbformat": 2,
  "kernelspec": {
   "name": "python3",
   "display_name": "Python 3"
  }
 },
 "nbformat": 4,
 "nbformat_minor": 2,
 "cells": [
  {
   "cell_type": "markdown",
   "metadata": {},
   "source": [
    "In this blog we will write about how to use the walrus operator in Python. Now if you know the current version of Python then it is 3.8.5. But I am using Python 3.8.3. Walrus operator and f string = operator is a operator which is a new feature in 3.8 version and hence the code in this blog will be specific for python 3.8.0 and above.\n",
    "\n",
    "Looking on the code, in this blog we will focus on to use the winsound library to generate a series of notes. And hence then will see how to play Happy Birthday song on Python.\n",
    "\n",
    "The blog has some prerequistes of acoustical physics and will not explain it in deep in this blog.\n",
    "\n",
    "First thing is will be importing winsound which is a in-built library. This library is only compatable with Windows OS and if you are Linux or Mac user, kindly use the specific library that is available for your operating system. The other library will be time to get our code to sleep in between song lines."
   ]
  },
  {
   "cell_type": "code",
   "execution_count": 1,
   "metadata": {},
   "outputs": [],
   "source": [
    "import winsound\n",
    "import time"
   ]
  },
  {
   "cell_type": "markdown",
   "metadata": {},
   "source": [
    "Now we have to decide on which frequency to start with, I will be using 323.63 as the starting frequency as it corresponds to E4. You can have a look to the frequencies on this [webpage](https://pages.mtu.edu/~suits/notefreq432.html)."
   ]
  },
  {
   "cell_type": "code",
   "execution_count": 2,
   "metadata": {},
   "outputs": [],
   "source": [
    "start_frequency = 323.63"
   ]
  },
  {
   "cell_type": "markdown",
   "metadata": {},
   "source": [
    "Now I will keep the origin start_frequency as it is and make another variable so that we can update it."
   ]
  },
  {
   "cell_type": "code",
   "execution_count": 3,
   "metadata": {},
   "outputs": [],
   "source": [
    "next_frequency = start_frequency"
   ]
  },
  {
   "cell_type": "markdown",
   "metadata": {},
   "source": [
    "Now the next thing to generate a series we need to know some basic acoustical physics behind the notes. In the next lines of code we will have 3 variable that will be major, minor and semi. The values for it are taken from books of acoustical physics. \n",
    "\n",
    "We will then have a series of these variables, hence it will form a octave. Now octave is another word which is used in acoustical physics that simply means that we are inside one frame of C note to another C note."
   ]
  },
  {
   "cell_type": "code",
   "execution_count": 4,
   "metadata": {},
   "outputs": [],
   "source": [
    "major = 9/8\n",
    "minor = 10/9\n",
    "semi = 16/15\n",
    "\n",
    "series = [major, minor, semi, major, minor, major, semi]"
   ]
  },
  {
   "cell_type": "markdown",
   "metadata": {},
   "source": [
    "Now the next thing we want to do is set this series to the start_frequency variable we have mentioned above, so that the series starts from the series which we want.\n",
    "\n",
    "Now notice we are using the walrus operator over here so that we can do a list comprenshion. If the walrus operator was not used than we had to write the same line of code multiple times.\n",
    "\n",
    "Now in the next line what I want to do is I want to change the next frequency every time I iter through and set it to a new frequency so that the subsequent one has to use the same and the current one has to get the updated value.\n",
    "\n",
    "<b>NOTE:</b> The `:=` sign which you see is the walrus operator. What it does is it sets the new value and as well pass it to the list comprenshion."
   ]
  },
  {
   "cell_type": "code",
   "execution_count": 5,
   "metadata": {},
   "outputs": [],
   "source": [
    "scale = [next_frequency := next_frequency * e for e in series]"
   ]
  },
  {
   "cell_type": "markdown",
   "metadata": {},
   "source": [
    "Now the next thing we want to do here is play the melody which we have created, so I will use the winsound.Beep class to do it. `winsound.Beep()` takes in 2 parameters i.e. frequency and duration in milliseconds, frequency should be in integer.\n",
    "\n",
    "The integer frequency will give us some variation in the sound, so if you identify a slight change in the tone than you can ignore it."
   ]
  },
  {
   "cell_type": "code",
   "execution_count": 6,
   "metadata": {},
   "outputs": [],
   "source": [
    "for note in scale:\n",
    "    winsound.Beep(int(note), 500)"
   ]
  },
  {
   "cell_type": "markdown",
   "metadata": {},
   "source": [
    "Going on to the next part we will play the Happy Birthday song.\n",
    "\n",
    "The scale used here is C but we can use it for different frequencies also. It will remain the same even if the frequency value is changed in our case. If you are playing it on the piano then you have to change the scale notations also.\n",
    "\n",
    "These are the notes for Happy Birthday song.<br>\n",
    "C C D C F E <br>\n",
    "C C D C G F <br>\n",
    "C C C A F F E D <br>\n",
    "B♭ B♭ A F G F <br>"
   ]
  },
  {
   "cell_type": "code",
   "execution_count": 7,
   "metadata": {},
   "outputs": [],
   "source": [
    "line_1 = [0, 0, 1, 0, 3, 2]\n",
    "line_2 = [0, 0, 1, 0, 4, 3]\n",
    "line_3 = [0, 0, 0, 5, 3, 3, 2, 1]\n",
    "line_4 = [-1, -1, 5, 3, 4, 3]"
   ]
  },
  {
   "cell_type": "markdown",
   "metadata": {},
   "source": [
    "We will map the frequencies now to the scale. <b>NOTE</b> we have B♭ which is half note behind C. What that means is the difference between B1 and C2 is 1 and if we want to half the difference of it then we get B♭. \n",
    "\n",
    "B♭ is called as B flat in musical terms.\n",
    "\n",
    "Now we want the B♭ w. r. t the second C and not the first C. So the next line code what I have done is I have set `end_frequency = start_frequency * 2` using the acoustical physics theory. It says that the end of the octave frequency is always double to the start of the octave frequency, that means if my starting frequency is 220 kHZ then my ending frequency will be 440 kHZ."
   ]
  },
  {
   "cell_type": "code",
   "execution_count": 8,
   "metadata": {},
   "outputs": [],
   "source": [
    "end_frequency = start_frequency * 2"
   ]
  },
  {
   "cell_type": "markdown",
   "metadata": {},
   "source": [
    "Next thing what I will do here is I will take a negative difference of end_frequence * semi tone."
   ]
  },
  {
   "cell_type": "code",
   "execution_count": 9,
   "metadata": {},
   "outputs": [],
   "source": [
    "b_flat = end_frequency + (end_frequency - end_frequency * semi)"
   ]
  },
  {
   "cell_type": "markdown",
   "metadata": {},
   "source": [
    "The next thing what we have to do here is we have to map the actual frequencies to our new list."
   ]
  },
  {
   "cell_type": "code",
   "execution_count": 10,
   "metadata": {},
   "outputs": [],
   "source": [
    "song_line_1 = [scale[e] for e in line_1]\n",
    "song_line_2 = [scale[e] for e in line_2]\n",
    "song_line_3 = [scale[e] for e in line_3]\n",
    "song_line_4 = [b_flat if e==-1 else scale[e] for e in line_4]"
   ]
  },
  {
   "cell_type": "markdown",
   "metadata": {},
   "source": [
    "Put Constant variables to be used in the birthday song script."
   ]
  },
  {
   "cell_type": "code",
   "execution_count": 11,
   "metadata": {},
   "outputs": [],
   "source": [
    "DURATION = 500\n",
    "SLEEP_DURATION = 0.5"
   ]
  },
  {
   "cell_type": "markdown",
   "metadata": {},
   "source": [
    "Code for playing the Birthday Song."
   ]
  },
  {
   "cell_type": "code",
   "execution_count": 12,
   "metadata": {},
   "outputs": [],
   "source": [
    "# SONG MAIN LINES\n",
    "for e in song_line_1:\n",
    "    winsound.Beep(int(e), DURATION)\n",
    "time.sleep(SLEEP_DURATION)\n",
    "for e in song_line_2:\n",
    "    winsound.Beep(int(e), DURATION)\n",
    "time.sleep(SLEEP_DURATION)\n",
    "for e in song_line_3:\n",
    "    winsound.Beep(int(e), DURATION)\n",
    "time.sleep(SLEEP_DURATION)\n",
    "for e in song_line_4:\n",
    "    winsound.Beep(int(e), DURATION)"
   ]
  },
  {
   "cell_type": "markdown",
   "metadata": {},
   "source": [
    "Printing using the f string = operator which is newly available in Python 3.8.0 and above."
   ]
  },
  {
   "cell_type": "code",
   "execution_count": 13,
   "metadata": {
    "tags": []
   },
   "outputs": [
    {
     "output_type": "stream",
     "name": "stdout",
     "text": "scale=[364.08375, 404.5375, 431.50666666666666, 485.445, 539.3833333333333, 606.80625, 647.26]\nb_flat=604.1093333333333\nsong_line_1=[364.08375, 364.08375, 404.5375, 364.08375, 485.445, 431.50666666666666]\nsong_line_2=[364.08375, 364.08375, 404.5375, 364.08375, 539.3833333333333, 485.445]\nsong_line_3=[364.08375, 364.08375, 364.08375, 606.80625, 485.445, 485.445, 431.50666666666666, 404.5375]\nsong_line_4=[604.1093333333333, 604.1093333333333, 606.80625, 485.445, 539.3833333333333, 485.445]\n"
    }
   ],
   "source": [
    "print(f'{scale=}\\n{b_flat=}\\n{song_line_1=}\\n{song_line_2=}\\n{song_line_3=}\\n{song_line_4=}')"
   ]
  },
  {
   "cell_type": "code",
   "execution_count": null,
   "metadata": {},
   "outputs": [],
   "source": []
  }
 ]
}